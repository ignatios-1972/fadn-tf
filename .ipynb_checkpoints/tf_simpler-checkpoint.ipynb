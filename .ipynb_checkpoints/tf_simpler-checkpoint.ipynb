{
 "cells": [
  {
   "cell_type": "code",
   "execution_count": null,
   "metadata": {
    "scrolled": false
   },
   "outputs": [],
   "source": [
    "import pandas as pd\n",
    "import numpy as np\n",
    "import holoviews as hv\n",
    "from holoviews import opts, dim\n",
    "import panel as pn\n",
    "import panel.widgets as pnw\n",
    "pn.extension()\n",
    "hv.extension('bokeh')\n",
    "from bokeh.themes.theme import Theme\n",
    "theme = Theme(\n",
    "    json = {\n",
    "    \"attrs\": {\n",
    "        \"Legend\": {\n",
    "            \"spacing\": -1,\n",
    "            \"glyph_width\": 15,\n",
    "            \"label_standoff\": 8,\n",
    "            \"label_text_color\": \"black\",\n",
    "            \"label_text_font\": \"Helvetica\",\n",
    "            \"label_text_font_size\": \"0.75em\",\n",
    "            \"border_line_alpha\": 0,\n",
    "            \"background_fill_alpha\": 0.25,\n",
    "            \"background_fill_color\": \"white\"\n",
    "        }\n",
    "}})\n",
    "hv.renderer('bokeh').theme = theme"
   ]
  },
  {
   "cell_type": "code",
   "execution_count": null,
   "metadata": {},
   "outputs": [],
   "source": [
    "df0 = pd.read_csv('fadn_countries.csv')"
   ]
  },
  {
   "cell_type": "code",
   "execution_count": null,
   "metadata": {},
   "outputs": [],
   "source": [
    "choose = ['YEAR','COUNTRY','TF14']\n",
    "cols_bal = ['SE446','SE450','SE455','SE460','SE470','SE475','SE480']\n",
    "cols_inc = ['SE135', 'SE206', 'SE256', 'SE281', 'SE336', 'SE600','SE360', 'SE370', 'SE375', 'SE380', 'SE420']\n",
    "cols_com = ['SE011','SE025','SE080','SE131','SE132','SE135','SE136','SE206','SE207','SE256',\n",
    "            'SE270','SE360','SE441','SE455','SE420','SE605']\n",
    "names = {'SE011': 'Tot.Hours (hrs)', 'SE025': 'Tot. Area (ha)', 'SE080': 'Liv.Units (LU)', 'SE131': 'Tot.Out. (€)',\n",
    "         'SE132': 'T.Out/T.Costs (ratio)', 'SE135': 'Crop.Out (€)', 'SE136': 'Cr.Out/Ha (€/ha)', 'SE206': 'Liv.Out (€)',\n",
    "         'SE207': 'Lv.Out/L.Uni (€/LU)', 'SE256': 'Oth.Out (€)', 'SE270': 'Tot.Costs (€)', 'SE281': 'Tot.Spec.Costs (€)',\n",
    "         'SE336': 'Tot.Farm.Overheads (€)', 'SE360': 'Depreciation (€)', 'SE370': 'Wages (€)', 'SE375': 'Rent (€)', 'SE380': 'Interest (€)',\n",
    "         'SE420': 'Family Inc. (€)', 'SE436': 'Tot.Asse. (€)', 'SE441': 'Fixed Assets (€)', 'SE446': 'Land etc (€)',\n",
    "         'SE450': 'Buildings (€)', 'SE455': 'Machinery (€)', 'SE460': 'Br.liv (€)', 'SE465': 'Tot.cur.ass (€)',\n",
    "         'SE470': 'Non-br.liv (€)', 'SE475': 'Prod. stock', 'SE480': 'Oth. circul. (€)',\n",
    "         'SE600': 'Bal.Subs&Taxes (€)', 'SE605': 'Subsidies (€)'}\n",
    "names_rvs = {v: k for k, v in names.items()}"
   ]
  },
  {
   "cell_type": "code",
   "execution_count": null,
   "metadata": {},
   "outputs": [],
   "source": [
    "oles = list(set(choose + cols_bal + cols_inc + cols_com))\n",
    "df0 = df0[oles]"
   ]
  },
  {
   "cell_type": "code",
   "execution_count": null,
   "metadata": {},
   "outputs": [],
   "source": [
    "tf1  = pnw.Select(name='TF14', options=sorted(list(df0.TF14.unique())))\n",
    "var1 = pnw.Select(name='Variable to map', options=names_rvs)\n",
    "\n",
    "@pn.depends(tf1.param.value, var1.param.value)\n",
    "def synthesis(tf,met):\n",
    "    df = df0.query('TF14 == \"'+ tf + '\"')\n",
    "    ds = hv.Dataset(df, kdims=['YEAR','COUNTRY'], vdims=met)\n",
    "    ds = ds.sort(['YEAR','COUNTRY'])\n",
    "    curves = ds.to(hv.Curve, 'YEAR', groupby='COUNTRY').opts(tools=['hover'],color=hv.Cycle('Category20')).overlay()#.redim(YEAR=dict(range=(2004, 2025)))\n",
    "    curves.opts(legend_position='left', height=550, width=650 )\n",
    "    ds = ds.sort(['COUNTRY'])\n",
    "    hmap1 =  hv.HeatMap(ds, kdims=['COUNTRY','YEAR'], vdims=met).opts(\n",
    "        height=400,width=600, tools=['hover'], xrotation=45, labelled=[], title='HeatMap')\n",
    "\n",
    "    scatter1 =  hv.Scatter(ds, kdims=['COUNTRY'], vdims=[met,'YEAR']).opts(\n",
    "        height=300,width=600, cmap='Category20',xrotation=45, color='COUNTRY',\n",
    "        show_legend=False, tools=['hover'], size=5, xlabel='', title=names[met] + ' by Country')\n",
    "    scatter2 =  hv.Scatter(ds, kdims=['YEAR'], vdims=[met,'COUNTRY']).opts(\n",
    "        height=300,width=600, cmap='Category20',xrotation=45, color='COUNTRY',\n",
    "        show_legend=False, tools=['hover'], size=5, xlabel='', title=names[met] + ' by Year')\n",
    "\n",
    "    df1 = df[['YEAR', 'COUNTRY', met]]\n",
    "    usual = df1.groupby('COUNTRY').count().YEAR.idxmax()\n",
    "    df5 = pd.DataFrame()\n",
    "    for name, group in df1.groupby('COUNTRY'):\n",
    "        if name == usual:\n",
    "            df5 = group.set_index('YEAR')[[met]].rename(columns={met: name})\n",
    "    for name, group in df1.groupby('COUNTRY'):\n",
    "        if name !=usual:\n",
    "            df5 = df5.join(group.set_index('YEAR')[[met]].rename(columns={met: name})) \n",
    "        df5 = df5.replace(0, np.NaN).dropna(axis=1)\n",
    "    ign = df5.corr()\n",
    "    sysx = hv.HeatMap({'x': ign.columns, 'y': ign.index, 'z': ign.values})\n",
    "    sysx.opts(width=650, height=500, xrotation=45, tools=['hover'],\n",
    "              axiswise=True, labelled=[], title='Correlation Matrix-- Click for details')\n",
    "    posxy = hv.streams.Tap(source=sysx, x='(ELL) Greece', y='(ITA) Italy')\n",
    "    def dis_curves(x,y):\n",
    "        curve1 =  hv.Curve(ds.select(COUNTRY=x),'YEAR',met, label=x).sort('YEAR')\n",
    "        curve2 =  hv.Curve(ds.select(COUNTRY=y),'YEAR',met, label=y).sort('YEAR')\n",
    "        curves3 = curve1 * curve2\n",
    "        return curves3.opts(width=500, axiswise=True)\n",
    "    dmap = hv.DynamicMap(dis_curves, streams=[posxy])\n",
    "    return pn.Row(pn.Column(pn.Row(tf1, var1, background='#CCDED5'),hmap1,scatter1,scatter2),\n",
    "                  pn.Column(curves,sysx,dmap))\n",
    "\n",
    "\n",
    "pn.Tabs(('test',synthesis)).servable()"
   ]
  }
 ],
 "metadata": {
  "kernelspec": {
   "display_name": "Python 3",
   "language": "python",
   "name": "python3"
  },
  "language_info": {
   "codemirror_mode": {
    "name": "ipython",
    "version": 3
   },
   "file_extension": ".py",
   "mimetype": "text/x-python",
   "name": "python",
   "nbconvert_exporter": "python",
   "pygments_lexer": "ipython3",
   "version": "3.7.3"
  }
 },
 "nbformat": 4,
 "nbformat_minor": 2
}
