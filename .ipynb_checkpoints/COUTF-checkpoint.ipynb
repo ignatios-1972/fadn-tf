{
 "cells": [
  {
   "cell_type": "code",
   "execution_count": null,
   "metadata": {
    "scrolled": false
   },
   "outputs": [],
   "source": [
    "from IPython.display import display, HTML\n",
    "display(HTML(data=\"\"\"\n",
    "<style>\n",
    "    div#notebook-container    { width: 95%; }\n",
    "    div#menubar-container     { width: 65%; }\n",
    "    div#maintoolbar-container { width: 99%; }\n",
    "</style>\n",
    "\"\"\"))\n",
    "import pandas as pd\n",
    "import numpy as np\n",
    "import holoviews as hv\n",
    "from holoviews import opts, dim\n",
    "import panel as pn\n",
    "import panel.widgets as pnw\n",
    "pn.extension()\n",
    "# hv.extension('bokeh')\n",
    "hv.extension('matplotlib')"
   ]
  },
  {
   "cell_type": "code",
   "execution_count": null,
   "metadata": {},
   "outputs": [],
   "source": [
    "df0 = pd.read_csv('fadn_countries.csv')"
   ]
  },
  {
   "cell_type": "code",
   "execution_count": null,
   "metadata": {},
   "outputs": [],
   "source": [
    "choose = ['YEAR','COUNTRY','TF14']\n",
    "cols_com = ['SE011','SE025','SE080','SE131','SE132','SE135','SE136','SE206','SE207','SE256',\n",
    "            'SE270','SE360','SE441','SE455','SE420','SE605']\n",
    "names = {'SE011':'Total Hours', 'SE025': 'Total Area', 'SE080': 'Livestock Units', 'SE131': 'Total Output',\n",
    "         'SE132': 'T.Output/T.Costs', 'SE135': 'Crop Output', 'SE136': 'Cr.Out/Ha', 'SE206': 'Livestock Output',\n",
    "         'SE207':'Lv.Out/L.Uni', 'SE256': 'Other Output', 'SE270': 'Total Costs', 'SE281': 'Tot.Spec.Costs',\n",
    "         'SE336': 'Tot.Farm.Overheads', 'SE360': 'Depreciation', 'SE370': 'Wages', 'SE375': 'Rent', 'SE380': 'Interest',\n",
    "         'SE420': 'Family Income', 'SE436': 'Tot. assets', 'SE441': 'Fixed Assets', 'SE446': 'Land etc',\n",
    "         'SE450': 'Buildings', 'SE455': 'Machinery', 'SE460': 'Br.liv', 'SE465': 'Tot. cur. assets',\n",
    "         'SE470': 'Non-br. liv', 'SE475': 'Prod. stock', 'SE480': 'Oth. circul. ',\n",
    "         'SE600': 'Bal.Subs&Taxes', 'SE605': 'Subsidies'}\n",
    "color_sequence = ['#1f77b4', '#aec7e8', '#ff7f0e', '#ffbb78', '#2ca02c',\n",
    "                  '#98df8a', '#d62728', '#ff9896', '#9467bd', '#c5b0d5',\n",
    "                  '#8c564b', '#c49c94', '#e377c2', '#f7b6d2', '#7f7f7f',\n",
    "                  '#c7c7c7', '#bcbd22', '#dbdb8d', '#17becf', '#9edae5']\n"
   ]
  },
  {
   "cell_type": "code",
   "execution_count": null,
   "metadata": {
    "scrolled": false
   },
   "outputs": [],
   "source": [
    "df0 = df0[choose + cols_com]"
   ]
  },
  {
   "cell_type": "code",
   "execution_count": null,
   "metadata": {
    "scrolled": true
   },
   "outputs": [],
   "source": [
    "set(df0.COUNTRY.unique())"
   ]
  },
  {
   "cell_type": "code",
   "execution_count": null,
   "metadata": {},
   "outputs": [],
   "source": [
    "d_country = {'(BEL) Belgium': 10, '(BGR) Bulgaria': 20, '(CYP) Cyprus': 30, '(CZE) Czech Republic': 40,\n",
    "             '(DAN) Denmark': 50, '(DEU) Germany': 60, '(ELL) Greece': 70, '(ESP) Spain': 80, '(EST) Estonia': 90,\n",
    "             '(FRA) France': 100, '(HRV) Croatia': 110, '(HUN) Hungary': 120, '(IRE) Ireland': 130, '(ITA) Italy': 140,\n",
    "             '(LTU) Lithuania': 150, '(LUX) Luxembourg': 160, '(LVA) Latvia': 170, '(MLT) Malta': 180, '(NED) Netherlands': 190,\n",
    "             '(OST) Austria': 200, '(POL) Poland': 210, '(POR) Portugal': 220, '(ROU) Romania': 230, '(SUO) Finland': 240,\n",
    "              '(SVE) Sweden': 250, '(SVK) Slovakia': 260, '(SVN) Slovenia': 270, '(UKI) United Kingdom': 280}"
   ]
  },
  {
   "cell_type": "code",
   "execution_count": null,
   "metadata": {},
   "outputs": [],
   "source": [
    "tf14 = set(df0.TF14.unique())"
   ]
  },
  {
   "cell_type": "code",
   "execution_count": null,
   "metadata": {},
   "outputs": [],
   "source": [
    "tf14"
   ]
  },
  {
   "cell_type": "code",
   "execution_count": null,
   "metadata": {},
   "outputs": [],
   "source": [
    "d_tf = {'(15) Specialist COP': 10, '(16) Specialist other fieldcrops': 20, '(20) Specialist horticulture': 30,\n",
    "        '(35) Specialist wine': 40, '(36) Specialist orchards - fruits': 50, '(37) Specialist olives': 60, \n",
    "        '(38) Permanent crops combined': 70, '(45) Specialist milk': 80, '(48) Specialist sheep and goats': 90,\n",
    "        '(49) Specialist cattle': 100 , '(50) Specialist granivores': 110,  '(60) Mixed crops': 120,\n",
    "        '(70) Mixed livestock': 130, '(80) Mixed crops and livestock': 140}"
   ]
  },
  {
   "cell_type": "code",
   "execution_count": null,
   "metadata": {},
   "outputs": [],
   "source": [
    "df0 = df0.query('TF14 == \"(15) Specialist COP\"')"
   ]
  },
  {
   "cell_type": "code",
   "execution_count": null,
   "metadata": {},
   "outputs": [],
   "source": [
    "# df0['ren_tf'] = df0.TF14.replace(d_tf)\n",
    "df0['ren_coun'] = df0.COUNTRY.replace(d_country)"
   ]
  },
  {
   "cell_type": "code",
   "execution_count": null,
   "metadata": {},
   "outputs": [],
   "source": [
    "df0.to_csv('countries3d.csv', index=False)"
   ]
  },
  {
   "cell_type": "code",
   "execution_count": null,
   "metadata": {},
   "outputs": [],
   "source": [
    "hv.Scatter3D((df0['YEAR'],df0['SE420'],df0['ren_tf'], )).opts(color='z', cmap='tab20', fig_size=500)"
   ]
  },
  {
   "cell_type": "code",
   "execution_count": null,
   "metadata": {},
   "outputs": [],
   "source": [
    "df = df0[['ren_tf', 'YEAR', 'SE420']]"
   ]
  },
  {
   "cell_type": "code",
   "execution_count": null,
   "metadata": {},
   "outputs": [],
   "source": [
    "lola = df.to_dict('list')"
   ]
  },
  {
   "cell_type": "code",
   "execution_count": null,
   "metadata": {},
   "outputs": [],
   "source": [
    "hv.Scatter3D(lola).opts(color='ren_tf', cmap='tab20', fig_size=500)"
   ]
  },
  {
   "cell_type": "code",
   "execution_count": null,
   "metadata": {},
   "outputs": [],
   "source": [
    "df = df.sort_values(['ren_tf', 'YEAR'], ascending=[True, True])"
   ]
  },
  {
   "cell_type": "code",
   "execution_count": null,
   "metadata": {},
   "outputs": [],
   "source": [
    "ds = hv.Dataset(df) "
   ]
  },
  {
   "cell_type": "code",
   "execution_count": null,
   "metadata": {},
   "outputs": [],
   "source": [
    "scatter_layout = ds.to.scatter3d()\n",
    "scatter_layout.opts(\n",
    "    opts.Scatter3D(color='ren_tf', cmap='tab20', edgecolor='black', s=50, fig_size=500))"
   ]
  },
  {
   "cell_type": "code",
   "execution_count": null,
   "metadata": {},
   "outputs": [],
   "source": [
    "hv.help(hv.Scatter3D)"
   ]
  },
  {
   "cell_type": "code",
   "execution_count": null,
   "metadata": {},
   "outputs": [],
   "source": [
    "# y_offsets = {'(16) Specialist other fieldcrops': 0.5, '(20) Specialist horticulture': -0.5,\n",
    "#              '(36) Specialist orchards - fruits': 0.75, '(35) Specialist wine': 0.25,\n",
    "#              '(45) Specialist milk': -0.25, '(49) Specialist cattle': 1.25,\n",
    "#              '(50) Specialist granivores': 0.25, '(70) Mixed livestock': -0.75,\n",
    "#              '(80) Mixed crops and livestock': 0.75, '(60) Mixed crops': -0.75,\n",
    "#              '(15) Specialist COP': 0.75, '(48) Specialist sheep and goats': -0.25,\n",
    "#              '(38) Permanent crops combined': 0.75, '(37) Specialist olives': -0.5}\n",
    "# def offset(row):\n",
    "#     row['SE420'] += y_offsets.get(row.TF14, 0)\n",
    "#     return row\n",
    "label_df = df0[df0.YEAR==2018]#.apply(offset, axis=1)\n",
    "labels = hv.Labels(label_df, ['YEAR', 'SE420'], 'TF14')"
   ]
  },
  {
   "cell_type": "code",
   "execution_count": null,
   "metadata": {},
   "outputs": [],
   "source": [
    "ds = hv.Dataset(df0, vdims=['SE420'])\n",
    "curves = ds.to(hv.Curve, 'YEAR', groupby='TF14').overlay().redim(YEAR=dict(range=(2004, 2025)))"
   ]
  },
  {
   "cell_type": "code",
   "execution_count": null,
   "metadata": {},
   "outputs": [],
   "source": [
    "overlay = (curves * labels)\n",
    "overlay.opts(opts.Curve(tools=['hover'], height=900, width=1000,show_grid=True, show_legend=True,\n",
    "                        color=hv.Cycle(values=color_sequence)),\n",
    "            opts.Labels(text_color='TF14', cmap=color_sequence, text_align='left'))\n",
    "overlay.opts(legend_position='left')"
   ]
  },
  {
   "cell_type": "code",
   "execution_count": null,
   "metadata": {},
   "outputs": [],
   "source": [
    "tina = {}\n",
    "for tf in tf14:\n",
    "    df = df0.query('TF14 ==\"' + tf + '\"') \n",
    "    curve1 = hv.Curve(df, 'YEAR', 'SE270', label='Costs')\n",
    "    curve2 = hv.Curve(df, 'YEAR', 'SE420', label='Family')\n",
    "    curve3 = hv.Curve(df, 'YEAR', 'SE131', label='Output')\n",
    "    curve4 = hv.Curve(df, 'YEAR', 'SE605', label='Subs')\n",
    "    curves = (curve1 * curve2 * curve3 * curve4).opts(opts.Curve(tools=['hover']))\n",
    "    curves.opts(legend_position='right', ylabel='', width=600, height=280, title=tf, shared_axes=False)\n",
    "    tina[tf] = curves"
   ]
  },
  {
   "cell_type": "code",
   "execution_count": null,
   "metadata": {},
   "outputs": [],
   "source": [
    "tina['(16) Specialist other fieldcrops']"
   ]
  },
  {
   "cell_type": "code",
   "execution_count": null,
   "metadata": {},
   "outputs": [],
   "source": [
    "ign = pn.Column(pn.Row(tina['(15) Specialist COP'], tina['(16) Specialist other fieldcrops']),\n",
    "                pn.Row(tina['(20) Specialist horticulture'], tina['(35) Specialist wine']),\n",
    "                pn.Row(tina['(36) Specialist orchards - fruits'], tina['(37) Specialist olives']))                "
   ]
  },
  {
   "cell_type": "code",
   "execution_count": null,
   "metadata": {},
   "outputs": [],
   "source": [
    "ign.show()"
   ]
  },
  {
   "cell_type": "code",
   "execution_count": null,
   "metadata": {},
   "outputs": [],
   "source": [
    "df = df0.query('YEAR == 2018')"
   ]
  },
  {
   "cell_type": "code",
   "execution_count": null,
   "metadata": {},
   "outputs": [],
   "source": [
    "ds = hv.Dataset(df, kdims=['COUNTRY','TF14'], vdims=['SE420'])"
   ]
  },
  {
   "cell_type": "code",
   "execution_count": null,
   "metadata": {},
   "outputs": [],
   "source": [
    "hv.HeatMap(ds).sort('TF14').opts(height=500,width=700, tools=['hover'], xrotation=45)"
   ]
  },
  {
   "cell_type": "code",
   "execution_count": null,
   "metadata": {},
   "outputs": [],
   "source": []
  }
 ],
 "metadata": {
  "kernelspec": {
   "display_name": "Python 3",
   "language": "python",
   "name": "python3"
  },
  "language_info": {
   "codemirror_mode": {
    "name": "ipython",
    "version": 3
   },
   "file_extension": ".py",
   "mimetype": "text/x-python",
   "name": "python",
   "nbconvert_exporter": "python",
   "pygments_lexer": "ipython3",
   "version": "3.7.3"
  }
 },
 "nbformat": 4,
 "nbformat_minor": 2
}
